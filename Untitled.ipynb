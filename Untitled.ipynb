{
 "cells": [
  {
   "cell_type": "code",
   "execution_count": 47,
   "metadata": {},
   "outputs": [
    {
     "name": "stdout",
     "output_type": "stream",
     "text": [
      "[[12.07 11.85 11.75 11.87 11.79 11.96 11.68 11.6  12.18 12.08 11.92 11.74]\n",
      " [12.5  12.4  12.47 12.21 12.63 12.73 12.78 12.7  12.58 12.53 12.88 12.81]\n",
      " [12.38 12.49 12.47 12.53 12.05 12.01 12.25 12.3  12.45 12.37 11.98 12.06]]\n"
     ]
    }
   ],
   "source": [
    "import numpy as np\n",
    "import pandas as pd\n",
    "import matplotlib.pyplot as plot\n",
    "\n",
    "uniforme = pd.read_csv('uniforme.csv', sep='\\t', decimal=',')\n",
    "x = uniforme.as_matrix()\n",
    "\n",
    "print(x)\n",
    "\n",
    "nomes = [\"Nathy\", \"Matheus\", \"Eduardo\"]\n",
    "vm = []\n",
    "\n",
    "for nome in nomes:\n",
    "    \n"
   ]
  },
  {
   "cell_type": "code",
   "execution_count": null,
   "metadata": {},
   "outputs": [],
   "source": []
  },
  {
   "cell_type": "code",
   "execution_count": null,
   "metadata": {},
   "outputs": [],
   "source": []
  }
 ],
 "metadata": {
  "kernelspec": {
   "display_name": "Python 3",
   "language": "python",
   "name": "python3"
  },
  "language_info": {
   "codemirror_mode": {
    "name": "ipython",
    "version": 3
   },
   "file_extension": ".py",
   "mimetype": "text/x-python",
   "name": "python",
   "nbconvert_exporter": "python",
   "pygments_lexer": "ipython3",
   "version": "3.5.2"
  }
 },
 "nbformat": 4,
 "nbformat_minor": 2
}
